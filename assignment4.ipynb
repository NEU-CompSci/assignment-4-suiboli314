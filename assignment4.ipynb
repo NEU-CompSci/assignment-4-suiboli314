{
  "nbformat": 4,
  "nbformat_minor": 0,
  "metadata": {
    "colab": {
      "provenance": []
    },
    "kernelspec": {
      "name": "python3",
      "display_name": "Python 3"
    },
    "language_info": {
      "name": "python"
    }
  },
  "cells": [
    {
      "cell_type": "markdown",
      "source": [
        "## K-Means:\n",
        "\n",
        "The [normalized automobile distributor timing speed and ignition coil gaps](https://course.ccs.neu.edu/cs6220/homework-4/data/) for production F-150 trucks over the years of 1996, 1999, 2006, 2015, and 2022. We have stripped out the labels for the five years of data. \n",
        "\n",
        "Each sample in the dataset is two-dimensional, i.e. $\\textbf{x}_i \\in \\mathbb{R}^2$ (one dimension for timing speed and the other for coil gaps), and there are $N=5000$ instances in the data.\n",
        "\n"
      ],
      "metadata": {
        "id": "wkPM2eD6NyF8"
      }
    },
    {
      "cell_type": "code",
      "source": [
        "!curl -o data.txt https://course.ccs.neu.edu/cs6220/homework-4/data/f150_motor_distributors.txt"
      ],
      "metadata": {
        "colab": {
          "base_uri": "https://localhost:8080/"
        },
        "id": "vh25olbtiC93",
        "outputId": "3d769e5a-9ab9-4d89-c33f-747e39fca8ac"
      },
      "execution_count": null,
      "outputs": [
        {
          "output_type": "stream",
          "name": "stdout",
          "text": [
            "  % Total    % Received % Xferd  Average Speed   Time    Time     Time  Current\n",
            "                                 Dload  Upload   Total   Spent    Left  Speed\n",
            "100  249k  100  249k    0     0   627k      0 --:--:-- --:--:-- --:--:--  627k\n"
          ]
        }
      ]
    },
    {
      "cell_type": "code",
      "source": [
        "import pandas as pd\n",
        "import matplotlib.pyplot as plt\n",
        "import numpy as np\n",
        "import math"
      ],
      "metadata": {
        "id": "IO-D-eCGix3k"
      },
      "execution_count": null,
      "outputs": []
    },
    {
      "cell_type": "code",
      "source": [
        "df = pd.read_csv(\"data.txt\", header=None)"
      ],
      "metadata": {
        "id": "9KyVgbd_i212"
      },
      "execution_count": null,
      "outputs": []
    },
    {
      "cell_type": "code",
      "source": [
        "df"
      ],
      "metadata": {
        "colab": {
          "base_uri": "https://localhost:8080/",
          "height": 424
        },
        "id": "cbj7wW--jDGC",
        "outputId": "d8c73d8a-0970-4c1e-efda-1bb7627c3ec7"
      },
      "execution_count": null,
      "outputs": [
        {
          "output_type": "execute_result",
          "data": {
            "text/plain": [
              "              0         1\n",
              "0    -11.969996 -8.039628\n",
              "1    -26.961416 -6.962109\n",
              "2    -12.915849 -1.378941\n",
              "3     22.476144  2.066612\n",
              "4    -13.146631  4.835322\n",
              "...         ...       ...\n",
              "4995   6.852668  1.549076\n",
              "4996  -2.340729 -7.343469\n",
              "4997  12.925503 -0.103197\n",
              "4998 -34.336778  4.405753\n",
              "4999 -26.812739 -1.639956\n",
              "\n",
              "[5000 rows x 2 columns]"
            ],
            "text/html": [
              "\n",
              "  <div id=\"df-fdf56365-7019-400c-9b5c-3f90afbbd687\">\n",
              "    <div class=\"colab-df-container\">\n",
              "      <div>\n",
              "<style scoped>\n",
              "    .dataframe tbody tr th:only-of-type {\n",
              "        vertical-align: middle;\n",
              "    }\n",
              "\n",
              "    .dataframe tbody tr th {\n",
              "        vertical-align: top;\n",
              "    }\n",
              "\n",
              "    .dataframe thead th {\n",
              "        text-align: right;\n",
              "    }\n",
              "</style>\n",
              "<table border=\"1\" class=\"dataframe\">\n",
              "  <thead>\n",
              "    <tr style=\"text-align: right;\">\n",
              "      <th></th>\n",
              "      <th>0</th>\n",
              "      <th>1</th>\n",
              "    </tr>\n",
              "  </thead>\n",
              "  <tbody>\n",
              "    <tr>\n",
              "      <th>0</th>\n",
              "      <td>-11.969996</td>\n",
              "      <td>-8.039628</td>\n",
              "    </tr>\n",
              "    <tr>\n",
              "      <th>1</th>\n",
              "      <td>-26.961416</td>\n",
              "      <td>-6.962109</td>\n",
              "    </tr>\n",
              "    <tr>\n",
              "      <th>2</th>\n",
              "      <td>-12.915849</td>\n",
              "      <td>-1.378941</td>\n",
              "    </tr>\n",
              "    <tr>\n",
              "      <th>3</th>\n",
              "      <td>22.476144</td>\n",
              "      <td>2.066612</td>\n",
              "    </tr>\n",
              "    <tr>\n",
              "      <th>4</th>\n",
              "      <td>-13.146631</td>\n",
              "      <td>4.835322</td>\n",
              "    </tr>\n",
              "    <tr>\n",
              "      <th>...</th>\n",
              "      <td>...</td>\n",
              "      <td>...</td>\n",
              "    </tr>\n",
              "    <tr>\n",
              "      <th>4995</th>\n",
              "      <td>6.852668</td>\n",
              "      <td>1.549076</td>\n",
              "    </tr>\n",
              "    <tr>\n",
              "      <th>4996</th>\n",
              "      <td>-2.340729</td>\n",
              "      <td>-7.343469</td>\n",
              "    </tr>\n",
              "    <tr>\n",
              "      <th>4997</th>\n",
              "      <td>12.925503</td>\n",
              "      <td>-0.103197</td>\n",
              "    </tr>\n",
              "    <tr>\n",
              "      <th>4998</th>\n",
              "      <td>-34.336778</td>\n",
              "      <td>4.405753</td>\n",
              "    </tr>\n",
              "    <tr>\n",
              "      <th>4999</th>\n",
              "      <td>-26.812739</td>\n",
              "      <td>-1.639956</td>\n",
              "    </tr>\n",
              "  </tbody>\n",
              "</table>\n",
              "<p>5000 rows × 2 columns</p>\n",
              "</div>\n",
              "      <button class=\"colab-df-convert\" onclick=\"convertToInteractive('df-fdf56365-7019-400c-9b5c-3f90afbbd687')\"\n",
              "              title=\"Convert this dataframe to an interactive table.\"\n",
              "              style=\"display:none;\">\n",
              "        \n",
              "  <svg xmlns=\"http://www.w3.org/2000/svg\" height=\"24px\"viewBox=\"0 0 24 24\"\n",
              "       width=\"24px\">\n",
              "    <path d=\"M0 0h24v24H0V0z\" fill=\"none\"/>\n",
              "    <path d=\"M18.56 5.44l.94 2.06.94-2.06 2.06-.94-2.06-.94-.94-2.06-.94 2.06-2.06.94zm-11 1L8.5 8.5l.94-2.06 2.06-.94-2.06-.94L8.5 2.5l-.94 2.06-2.06.94zm10 10l.94 2.06.94-2.06 2.06-.94-2.06-.94-.94-2.06-.94 2.06-2.06.94z\"/><path d=\"M17.41 7.96l-1.37-1.37c-.4-.4-.92-.59-1.43-.59-.52 0-1.04.2-1.43.59L10.3 9.45l-7.72 7.72c-.78.78-.78 2.05 0 2.83L4 21.41c.39.39.9.59 1.41.59.51 0 1.02-.2 1.41-.59l7.78-7.78 2.81-2.81c.8-.78.8-2.07 0-2.86zM5.41 20L4 18.59l7.72-7.72 1.47 1.35L5.41 20z\"/>\n",
              "  </svg>\n",
              "      </button>\n",
              "      \n",
              "  <style>\n",
              "    .colab-df-container {\n",
              "      display:flex;\n",
              "      flex-wrap:wrap;\n",
              "      gap: 12px;\n",
              "    }\n",
              "\n",
              "    .colab-df-convert {\n",
              "      background-color: #E8F0FE;\n",
              "      border: none;\n",
              "      border-radius: 50%;\n",
              "      cursor: pointer;\n",
              "      display: none;\n",
              "      fill: #1967D2;\n",
              "      height: 32px;\n",
              "      padding: 0 0 0 0;\n",
              "      width: 32px;\n",
              "    }\n",
              "\n",
              "    .colab-df-convert:hover {\n",
              "      background-color: #E2EBFA;\n",
              "      box-shadow: 0px 1px 2px rgba(60, 64, 67, 0.3), 0px 1px 3px 1px rgba(60, 64, 67, 0.15);\n",
              "      fill: #174EA6;\n",
              "    }\n",
              "\n",
              "    [theme=dark] .colab-df-convert {\n",
              "      background-color: #3B4455;\n",
              "      fill: #D2E3FC;\n",
              "    }\n",
              "\n",
              "    [theme=dark] .colab-df-convert:hover {\n",
              "      background-color: #434B5C;\n",
              "      box-shadow: 0px 1px 3px 1px rgba(0, 0, 0, 0.15);\n",
              "      filter: drop-shadow(0px 1px 2px rgba(0, 0, 0, 0.3));\n",
              "      fill: #FFFFFF;\n",
              "    }\n",
              "  </style>\n",
              "\n",
              "      <script>\n",
              "        const buttonEl =\n",
              "          document.querySelector('#df-fdf56365-7019-400c-9b5c-3f90afbbd687 button.colab-df-convert');\n",
              "        buttonEl.style.display =\n",
              "          google.colab.kernel.accessAllowed ? 'block' : 'none';\n",
              "\n",
              "        async function convertToInteractive(key) {\n",
              "          const element = document.querySelector('#df-fdf56365-7019-400c-9b5c-3f90afbbd687');\n",
              "          const dataTable =\n",
              "            await google.colab.kernel.invokeFunction('convertToInteractive',\n",
              "                                                     [key], {});\n",
              "          if (!dataTable) return;\n",
              "\n",
              "          const docLinkHtml = 'Like what you see? Visit the ' +\n",
              "            '<a target=\"_blank\" href=https://colab.research.google.com/notebooks/data_table.ipynb>data table notebook</a>'\n",
              "            + ' to learn more about interactive tables.';\n",
              "          element.innerHTML = '';\n",
              "          dataTable['output_type'] = 'display_data';\n",
              "          await google.colab.output.renderOutput(dataTable, element);\n",
              "          const docLink = document.createElement('div');\n",
              "          docLink.innerHTML = docLinkHtml;\n",
              "          element.appendChild(docLink);\n",
              "        }\n",
              "      </script>\n",
              "    </div>\n",
              "  </div>\n",
              "  "
            ]
          },
          "metadata": {},
          "execution_count": 4
        }
      ]
    },
    {
      "cell_type": "markdown",
      "source": [
        "#### Question 1a:\n",
        "Implement a simple k-means algorithm in Python on Colab with the\n",
        "following initialization:\n",
        "\n",
        "\\begin{equation}\n",
        "\\textbf{x}_1 = \\left( \\begin{matrix} 10 \\\\ 10 \\end{matrix} \\right), \\textbf{x}_2 = \\left( \\begin{matrix} -10 \\\\ -10 \\end{matrix} \\right),\n",
        "\\textbf{x}_3 = \\left( \\begin{matrix} 2 \\\\ 2 \\end{matrix} \\right),\n",
        "\\textbf{x}_4 = \\left( \\begin{matrix} 3 \\\\ 3 \\end{matrix} \\right),\n",
        "\\textbf{x}_5 = \\left( \\begin{matrix} -3 \\\\ -3 \\end{matrix} \\right),\n",
        "\\nonumber\n",
        "\\end{equation} \n",
        "\n",
        "You need only 100 iterations, maximum, and your algorithm should run very quickly to get the results."
      ],
      "metadata": {
        "id": "DxYAz-laO8aB"
      }
    },
    {
      "cell_type": "code",
      "execution_count": null,
      "metadata": {
        "id": "t_mhcq46zo3C"
      },
      "outputs": [],
      "source": [
        "x1, x2, x3, x4, x5 = (10, 10), (-10, -10), (2, 2), (3, 3), (-3, -3)"
      ]
    },
    {
      "cell_type": "code",
      "source": [
        "centroids = np.asarray([x1, x2, x3, x4, x5])\n",
        "centroids"
      ],
      "metadata": {
        "colab": {
          "base_uri": "https://localhost:8080/"
        },
        "id": "AF21webhuzCp",
        "outputId": "a2705dea-d73b-42ab-d1aa-2a4d98c91f6e"
      },
      "execution_count": null,
      "outputs": [
        {
          "output_type": "execute_result",
          "data": {
            "text/plain": [
              "array([[ 10,  10],\n",
              "       [-10, -10],\n",
              "       [  2,   2],\n",
              "       [  3,   3],\n",
              "       [ -3,  -3]])"
            ]
          },
          "metadata": {},
          "execution_count": 6
        }
      ]
    },
    {
      "cell_type": "code",
      "source": [
        "def show_plot(centroids=None, df=[]):\n",
        "  cdict = {0: 'blue', 1: 'red', 2: 'green', 3:'yellow', 4:'pink'}\n",
        "  fig, ax = plt.subplots()\n",
        "  for g in np.unique(df.label):\n",
        "      ix = np.where(df.label == g)\n",
        "      ax.scatter(df.iloc[ix][0], df.iloc[ix][1], c = cdict[g], label = g)\n",
        "\n",
        "  if (centroids is not None):\n",
        "    ax.scatter(centroids.T[0], centroids.T[1], marker='x', c=\"black\")\n",
        "  ax.legend()\n",
        "  plt.show()"
      ],
      "metadata": {
        "id": "n3gX8wb6wO_0"
      },
      "execution_count": null,
      "outputs": []
    },
    {
      "cell_type": "code",
      "source": [
        "def distance_euclidean(centroids, pos):\n",
        "  return ((centroids - np.array(pos))**2).sum(axis=1)"
      ],
      "metadata": {
        "id": "gsnlK9mCfzgK"
      },
      "execution_count": null,
      "outputs": []
    },
    {
      "cell_type": "code",
      "source": [
        "# this can also be done with kd tree\n",
        "def find_closest_centroid(centroids, pos):\n",
        "  # array = np.asarray(centroids)\n",
        "  idx = distance_euclidean(centroids, pos).argmin()\n",
        "  return idx # centroids[idx]"
      ],
      "metadata": {
        "id": "_phoszNhl_ZA"
      },
      "execution_count": null,
      "outputs": []
    },
    {
      "cell_type": "code",
      "source": [
        "def cal_diff(centroids_prev, centroids_curr):\n",
        "  return np.sqrt(((centroids_prev - centroids_curr)**2).sum(axis=1))"
      ],
      "metadata": {
        "id": "Utzf5ZwbfbOj"
      },
      "execution_count": null,
      "outputs": []
    },
    {
      "cell_type": "markdown",
      "source": [
        "Algorithm of K-means:\n",
        "```\n",
        "pick cluster centers of # number     // the existing point at the begining \n",
        "for some # of iterations             // centroids become archetype(not the point in data) after 1 iteration\n",
        "\t\tfor each feature vector fi\n",
        "\t\t\t\tfind cloeset cluster center \n",
        "\t\t\t  assign li to be the closest cluster center     // label data\n",
        "\t\tre-initialize cluster centers (saving old ones)\n",
        "\t\tfor each featuer vector fi\n",
        "\t\t\t\tadd fi to centroid li\n",
        "\t\tfor each centroid                                  // recompute centroid\n",
        "\t\t\t\tthe value of centroid divide by # of feature vectors \n",
        "\t\tcompare new centroids to old centroids\n",
        "\t\t\t\tbreak if close enough\n",
        "```"
      ],
      "metadata": {
        "id": "6JUAY6IXCVXy"
      }
    },
    {
      "cell_type": "code",
      "source": [
        "def find_k_means(centroids):\n",
        "  iteration = 100\n",
        "  threshold = 1e-20\n",
        "\n",
        "  for iter in range(1, iteration+1):\n",
        "    df[\"label\"] = df.apply(lambda row: find_closest_centroid(centroids, (row[0], row[1])), axis=1) # find cloest cluster centroid\n",
        "    centroids_curr = np.asarray(df.groupby(by=[\"label\"]).mean()) # ssd\n",
        "    diff = cal_diff(centroids, centroids_curr)\n",
        "    print(\"diff: \",diff)\n",
        "    if diff.mean() < threshold:\n",
        "      break\n",
        "    else: \n",
        "      centroids = centroids_curr\n",
        "      # show_plot(centroids, df)\n",
        "  return centroids_curr"
      ],
      "metadata": {
        "id": "UGGFQ9xsPc-V"
      },
      "execution_count": null,
      "outputs": []
    },
    {
      "cell_type": "code",
      "source": [
        "centroids = find_k_means(centroids)"
      ],
      "metadata": {
        "colab": {
          "base_uri": "https://localhost:8080/"
        },
        "id": "A2nJs3C9nb-J",
        "outputId": "497d874b-af6a-47e8-bcaf-7e4d48e1d5ce"
      },
      "execution_count": null,
      "outputs": [
        {
          "output_type": "stream",
          "name": "stdout",
          "text": [
            "diff:  [16.8159311  16.12447497  3.79569782  7.98168173  2.69335685]\n",
            "diff:  [2.16120038 2.84292894 0.90809656 1.58398347 1.72766816]\n",
            "diff:  [1.19643619 1.66051701 0.50573609 0.82955472 1.627202  ]\n",
            "diff:  [0.75312875 1.15140865 0.36875125 0.51280962 1.16070068]\n",
            "diff:  [0.38613913 0.90126517 0.37817607 0.23826207 0.9333542 ]\n",
            "diff:  [0.20393155 0.75808628 0.3277428  0.0851373  0.75304475]\n",
            "diff:  [0.14216467 0.50395629 0.28973181 0.01036627 0.52087421]\n",
            "diff:  [0.10518831 0.41125825 0.28659    0.02247389 0.47693463]\n",
            "diff:  [0.03998674 0.44656984 0.25225569 0.05006833 0.45026239]\n",
            "diff:  [0.         0.38963138 0.20389668 0.04949904 0.3845051 ]\n",
            "diff:  [0.03998674 0.20596137 0.25639665 0.11343118 0.32461803]\n",
            "diff:  [0.10518831 0.16334586 0.20996095 0.14710343 0.25048895]\n",
            "diff:  [0.13008066 0.09094251 0.21401937 0.15021503 0.23640551]\n",
            "diff:  [0.06408322 0.03485114 0.18978739 0.14201172 0.14872343]\n",
            "diff:  [0.11435204 0.0438574  0.17570979 0.20984529 0.09116293]\n",
            "diff:  [0.13820547 0.03164178 0.14064937 0.17931505 0.07913268]\n",
            "diff:  [0.06258885 0.01602318 0.08311045 0.08550293 0.05612608]\n",
            "diff:  [0.06289958 0.03008628 0.07692326 0.08703966 0.0583891 ]\n",
            "diff:  [0.01490046 0.03207402 0.02386405 0.02256172 0.02940053]\n",
            "diff:  [0.01254533 0.07442798 0.03316005 0.01799522 0.06924118]\n",
            "diff:  [0.         0.07464704 0.02637579 0.02176345 0.05076911]\n",
            "diff:  [0.02616158 0.0300593  0.04169946 0.0290779  0.0517455 ]\n",
            "diff:  [0.02612725 0.         0.04165212 0.02900909 0.03649942]\n",
            "diff:  [0.01281001 0.01622982 0.02799802 0.01703164 0.03269646]\n",
            "diff:  [0.         0.         0.05650809 0.03359955 0.03697883]\n",
            "diff:  [0.         0.01523166 0.02408968 0.         0.03943163]\n",
            "diff:  [0.         0.050489   0.03785074 0.01198338 0.06174621]\n",
            "diff:  [0.02776699 0.03251458 0.06169396 0.03269374 0.0778854 ]\n",
            "diff:  [0.         0.03320339 0.05038877 0.00638573 0.07852105]\n",
            "diff:  [0.         0.01557841 0.01381119 0.01205478 0.01460247]\n",
            "diff:  [0.         0.         0.0049814  0.         0.00667169]\n",
            "diff:  [0. 0. 0. 0. 0.]\n"
          ]
        }
      ]
    },
    {
      "cell_type": "code",
      "source": [
        "centroids"
      ],
      "metadata": {
        "colab": {
          "base_uri": "https://localhost:8080/"
        },
        "id": "Cd9JN_qe3Rvq",
        "outputId": "fbfd1586-5bf7-4b47-dcb1-0388fffd73d1"
      },
      "execution_count": null,
      "outputs": [
        {
          "output_type": "execute_result",
          "data": {
            "text/plain": [
              "array([[ 27.26677403,  -1.08848482],\n",
              "       [-32.27032272,   2.65984149],\n",
              "       [ -1.45401192,  -2.23932918],\n",
              "       [ 11.48737759,  -1.70898344],\n",
              "       [-15.05895772,  -0.47281415]])"
            ]
          },
          "metadata": {},
          "execution_count": 13
        }
      ]
    },
    {
      "cell_type": "markdown",
      "source": [
        "#### Question 1b:\n",
        "Scatter the results in two dimensions with different clusters as different colors. You can use ```matplotlib pyplot``` functionality:"
      ],
      "metadata": {
        "id": "yc0Z3huMPTC7"
      }
    },
    {
      "cell_type": "code",
      "source": [
        "show_plot(centroids, df)"
      ],
      "metadata": {
        "colab": {
          "base_uri": "https://localhost:8080/",
          "height": 265
        },
        "id": "0SV6F4lE1zf8",
        "outputId": "f50be341-ac90-4138-d28a-2c263397d6b6"
      },
      "execution_count": null,
      "outputs": [
        {
          "output_type": "display_data",
          "data": {
            "text/plain": [
              "<Figure size 432x288 with 1 Axes>"
            ],
            "image/png": "[encoded data removed]"
          },
          "metadata": {
            "needs_background": "light"
          }
        }
      ]
    },
    {
      "cell_type": "markdown",
      "source": [
        "## Question 2\n",
        "\n",
        "In the data from Question 1, let `x` and `y` be two instances, i.e., they are each truck with separate measurements.  A common distance metric is the __Mahalanobis Distance__ with a specialized matrix $P \\in \\mathbb{R}^{2 \\times 2}$ that is written as follows: \n",
        "\n",
        "\\begin{equation}\n",
        "d(\\textbf{x}, \\textbf{y}) = ( \\textbf{x} - \\textbf{y} )^T (P^T P)^{-1} ( \\textbf{x} - \\textbf{y} )\n",
        "\\nonumber\n",
        "\\end{equation} \\\\\n",
        "\n",
        "In scalar format (non-matrix format), the Mahalanobis Distance can be expressed as:\n",
        "\n",
        "\\begin{equation}\n",
        "    d(\\textbf{x}, \\textbf{y}) = \\sum_{i=1}^2 \\sum_{j=1}^2 (x_i - y_i) \\cdot (P^T P)^{-1}_{i,j} \\cdot (x_j - y_j)\n",
        "    \\nonumber\n",
        "\\end{equation}\n",
        "\n",
        "where `x` and `y` are two instances of dimensionality 2, and $d(\\textbf{x}, \\textbf{y})$ is the distance between them. In the case of the F150 engine components, $P$ is a known relationship through Ford's quality control analysis each year, where it is numerically shown as below: \\\\\n",
        "\n",
        "\\begin{equation}\n",
        " P = \\left(\n",
        "\\begin{matrix}\n",
        "10 & 0.5 \\\\\n",
        "-10 & 0.25\n",
        "\\end{matrix}\n",
        "\\right) \\nonumber\n",
        "\\end{equation}\n",
        "\n",
        "> It is a multi-dimensional generalization of the idea of measuring how many standard deviations away P is from the mean of D. This distance is zero for P at the mean of D and grows as P moves away from the mean along each principal component axis. If each of these axes is re-scaled to have unit variance, then the Mahalanobis distance corresponds to standard Euclidean distance in the transformed space. The Mahalanobis distance is thus unitless, scale-invariant, and takes into account the correlations of the data set.\n",
        "\n"
      ],
      "metadata": {
        "id": "K3Ar8rcYNRn7"
      }
    },
    {
      "cell_type": "markdown",
      "source": [
        "#### Question 2a\n",
        "Using the same data as __Question 1__ and the same initialization instances $\\{\\textbf{x}_1, \\textbf{x}_2, \\textbf{x}_3, \\textbf{x}_4, \\textbf{x}_5 \\}$ implement a specialized $k$-means with the above Mahalanobis Distance. Scatter the results with the different clusters as different colors."
      ],
      "metadata": {
        "id": "z9c3Tq1TTv2e"
      }
    },
    {
      "cell_type": "code",
      "source": [
        "centroids = np.asarray([x1, x2, x3, x4, x5])\n",
        "P = np.asarray([[10, 0.5], [-10, 0.25]])"
      ],
      "metadata": {
        "id": "o1O7MjEWTvf6"
      },
      "execution_count": 89,
      "outputs": []
    },
    {
      "cell_type": "code",
      "source": [
        "def mahalanobis_distance(R, x, y):\n",
        "  diff = x - y\n",
        "  return diff.T @ R @ diff"
      ],
      "metadata": {
        "id": "miPsjiOs6g0l"
      },
      "execution_count": null,
      "outputs": []
    },
    {
      "cell_type": "code",
      "source": [
        "def find_closest_centroid(distance_metric, R, centroids, pos):\n",
        "  d = []\n",
        "  for c in centroids:\n",
        "    d.append(distance_metric(R, c, pos))\n",
        "  # print(\"metric\",d)\n",
        "  idx = np.argmin(d)\n",
        "  return idx # centroids[idx] "
      ],
      "metadata": {
        "id": "SC_iZXU7WjRa"
      },
      "execution_count": null,
      "outputs": []
    },
    {
      "cell_type": "code",
      "source": [
        "def find_closest_centroid_1(R, centroids, pos):\n",
        "  d = (((pos - centroids).dot(R))**2).sum(axis=1)\n",
        "  # print(\"metric\",d)\n",
        "  idx = np.argmin(d)\n",
        "  return idx # centroids[idx] "
      ],
      "metadata": {
        "id": "5skuI3i318G4"
      },
      "execution_count": null,
      "outputs": []
    },
    {
      "cell_type": "code",
      "source": [
        "def cal_diff_mahalanobis(R, centroids_prev, centroids_curr):\n",
        "  d = []\n",
        "  for c_prev, c_curr in zip(centroids_prev, centroids_curr):\n",
        "    d.append(mahalanobis_distance(R, c_prev, c_curr))\n",
        "\n",
        "  return np.asarray(d)\n",
        "  # return (((centroids_prev - centroids_curr).dot(R))**2).sum(axis=1)"
      ],
      "metadata": {
        "id": "LzyjHpMxpF8C"
      },
      "execution_count": null,
      "outputs": []
    },
    {
      "cell_type": "code",
      "source": [
        "def find_k_means_mahalanobis(centroids, P):\n",
        "  iteration = 100\n",
        "  threshold = 1e-20\n",
        "  R = np.linalg.inv(P.T @ P)\n",
        "  \n",
        "  for iter in range(1, iteration+1):\n",
        "    df[\"label\"] = df.apply(lambda row: find_closest_centroid(mahalanobis_distance, R = R, centroids= centroids, pos = (row[0], row[1])), axis=1) # find cloest cluster centroid\n",
        "    centroids_curr = np.asarray(df.groupby(by=[\"label\"]).mean()) # find new centroids\n",
        "    diff = cal_diff_mahalanobis(R, centroids, centroids_curr)\n",
        "    print(\"diff\", iter, \":\", diff)\n",
        "    # print(\"centroids\", centroids_curr)\n",
        "    if diff.mean() < threshold:\n",
        "      break\n",
        "    else: \n",
        "      centroids = centroids_curr\n",
        "      # show_plot(centroids_curr, df)\n",
        "      \n",
        "  # show_plot(centroids_curr, df)\n",
        "  return centroids_curr"
      ],
      "metadata": {
        "id": "0_eVdWqtrwA2"
      },
      "execution_count": null,
      "outputs": []
    },
    {
      "cell_type": "code",
      "source": [
        "centroids = find_k_means_mahalanobis(centroids, P)"
      ],
      "metadata": {
        "colab": {
          "base_uri": "https://localhost:8080/"
        },
        "id": "RjYjHtcgmyuC",
        "outputId": "f60e7d0c-ca24-4cf6-87ff-58a2e636b1d9"
      },
      "execution_count": null,
      "outputs": [
        {
          "output_type": "stream",
          "name": "stdout",
          "text": [
            "diff 1 : [45.02610566 27.08525072  1.25803843 16.28639569  0.23622362]\n",
            "diff 2 : [0.93101277 0.12459988 0.13649352 0.08374665 0.01160004]\n",
            "diff 3 : [0.0756519  0.005926   0.02794979 0.02250231 0.01165908]\n",
            "diff 4 : [0.02120189 0.0002058  0.02166524 0.01112452 0.02369656]\n",
            "diff 5 : [0.01301526 0.00060551 0.01418787 0.00898041 0.02053425]\n",
            "diff 6 : [0.00614086 0.00078016 0.01349896 0.00660936 0.02192953]\n",
            "diff 7 : [0.00141307 0.00076096 0.01686273 0.00372089 0.02796709]\n",
            "diff 8 : [0.00175342 0.00010649 0.01900909 0.00208052 0.03525504]\n",
            "diff 9 : [0.00061331 0.00019948 0.01779322 0.00208434 0.03558323]\n",
            "diff 10 : [8.91179599e-04 4.12006233e-05 1.85526860e-02 2.84079161e-03\n",
            " 4.09217119e-02]\n",
            "diff 11 : [0.00134739 0.00026431 0.01866504 0.01274756 0.04030147]\n",
            "diff 12 : [0.00213718 0.         0.01347165 0.02601839 0.02227525]\n",
            "diff 13 : [5.04118149e-03 9.12745370e-06 5.65368424e-03 3.34513107e-02\n",
            " 9.29406703e-03]\n",
            "diff 14 : [0.0041775  0.         0.00527853 0.06584843 0.00392917]\n",
            "diff 15 : [7.96828863e-03 9.36909420e-06 4.58547406e-03 1.71452459e-01\n",
            " 7.43003012e-04]\n",
            "diff 16 : [1.74364260e-02 8.29068534e-06 2.13393928e-02 8.79106604e-01\n",
            " 3.31580358e-04]\n",
            "diff 17 : [4.13552321e-02 0.00000000e+00 2.41806041e-01 4.00060881e+00\n",
            " 3.42111900e-03]\n",
            "diff 18 : [0.02029536 0.         1.69035577 1.87800892 0.01300672]\n",
            "diff 19 : [2.40518168e-04 0.00000000e+00 4.86239908e-01 1.18652228e-01\n",
            " 8.15659835e-03]\n",
            "diff 20 : [0.00000000e+00 0.00000000e+00 1.49707437e-03 6.90783666e-04\n",
            " 4.56955395e-05]\n",
            "diff 21 : [0.00000000e+00 0.00000000e+00 8.76634484e-06 0.00000000e+00\n",
            " 8.89676191e-06]\n",
            "diff 22 : [0. 0. 0. 0. 0.]\n"
          ]
        }
      ]
    },
    {
      "cell_type": "code",
      "source": [
        "centroids"
      ],
      "metadata": {
        "colab": {
          "base_uri": "https://localhost:8080/"
        },
        "id": "qdpk1L0Xm-X0",
        "outputId": "ecf2ce6a-3de1-44fa-8f28-ba19ba6ed2b6"
      },
      "execution_count": null,
      "outputs": [
        {
          "output_type": "execute_result",
          "data": {
            "text/plain": [
              "array([[-20.40310599,   5.00655283],\n",
              "       [ -3.24764066,  -7.01766444],\n",
              "       [ -1.09670369,  -0.9992032 ],\n",
              "       [  9.97451285,   2.00207148],\n",
              "       [  8.71408722,  -4.00981947]])"
            ]
          },
          "metadata": {},
          "execution_count": 22
        }
      ]
    },
    {
      "cell_type": "code",
      "source": [
        "show_plot(centroids, df)"
      ],
      "metadata": {
        "colab": {
          "base_uri": "https://localhost:8080/",
          "height": 265
        },
        "id": "DU0oahU4EgFR",
        "outputId": "354991df-838f-458e-f88f-e6eed0aea0e7"
      },
      "execution_count": null,
      "outputs": [
        {
          "output_type": "display_data",
          "data": {
            "text/plain": [
              "<Figure size 432x288 with 1 Axes>"
            ],
            "image/png": "[encoded data removed]"
          },
          "metadata": {
            "needs_background": "light"
          }
        }
      ]
    },
    {
      "cell_type": "markdown",
      "source": [
        "#### Question 2b\n",
        "Calculate and print out the principle components of the aggregate\n",
        "data."
      ],
      "metadata": {
        "id": "KYc0LVWtmWpg"
      }
    },
    {
      "cell_type": "code",
      "source": [
        "from sklearn.decomposition import PCA"
      ],
      "metadata": {
        "id": "VKQ8tat5C29S"
      },
      "execution_count": null,
      "outputs": []
    },
    {
      "cell_type": "code",
      "source": [
        "data = df[[0, 1]]\n",
        "data"
      ],
      "metadata": {
        "colab": {
          "base_uri": "https://localhost:8080/",
          "height": 424
        },
        "id": "IsGilXLi86fg",
        "outputId": "e105b358-0dc2-4c10-abe5-9daf028ed132"
      },
      "execution_count": null,
      "outputs": [
        {
          "output_type": "execute_result",
          "data": {
            "text/plain": [
              "              0         1\n",
              "0    -11.969996 -8.039628\n",
              "1    -26.961416 -6.962109\n",
              "2    -12.915849 -1.378941\n",
              "3     22.476144  2.066612\n",
              "4    -13.146631  4.835322\n",
              "...         ...       ...\n",
              "4995   6.852668  1.549076\n",
              "4996  -2.340729 -7.343469\n",
              "4997  12.925503 -0.103197\n",
              "4998 -34.336778  4.405753\n",
              "4999 -26.812739 -1.639956\n",
              "\n",
              "[5000 rows x 2 columns]"
            ],
            "text/html": [
              "\n",
              "  <div id=\"df-542f42eb-863f-4aa5-85dd-efb7039feec5\">\n",
              "    <div class=\"colab-df-container\">\n",
              "      <div>\n",
              "<style scoped>\n",
              "    .dataframe tbody tr th:only-of-type {\n",
              "        vertical-align: middle;\n",
              "    }\n",
              "\n",
              "    .dataframe tbody tr th {\n",
              "        vertical-align: top;\n",
              "    }\n",
              "\n",
              "    .dataframe thead th {\n",
              "        text-align: right;\n",
              "    }\n",
              "</style>\n",
              "<table border=\"1\" class=\"dataframe\">\n",
              "  <thead>\n",
              "    <tr style=\"text-align: right;\">\n",
              "      <th></th>\n",
              "      <th>0</th>\n",
              "      <th>1</th>\n",
              "    </tr>\n",
              "  </thead>\n",
              "  <tbody>\n",
              "    <tr>\n",
              "      <th>0</th>\n",
              "      <td>-11.969996</td>\n",
              "      <td>-8.039628</td>\n",
              "    </tr>\n",
              "    <tr>\n",
              "      <th>1</th>\n",
              "      <td>-26.961416</td>\n",
              "      <td>-6.962109</td>\n",
              "    </tr>\n",
              "    <tr>\n",
              "      <th>2</th>\n",
              "      <td>-12.915849</td>\n",
              "      <td>-1.378941</td>\n",
              "    </tr>\n",
              "    <tr>\n",
              "      <th>3</th>\n",
              "      <td>22.476144</td>\n",
              "      <td>2.066612</td>\n",
              "    </tr>\n",
              "    <tr>\n",
              "      <th>4</th>\n",
              "      <td>-13.146631</td>\n",
              "      <td>4.835322</td>\n",
              "    </tr>\n",
              "    <tr>\n",
              "      <th>...</th>\n",
              "      <td>...</td>\n",
              "      <td>...</td>\n",
              "    </tr>\n",
              "    <tr>\n",
              "      <th>4995</th>\n",
              "      <td>6.852668</td>\n",
              "      <td>1.549076</td>\n",
              "    </tr>\n",
              "    <tr>\n",
              "      <th>4996</th>\n",
              "      <td>-2.340729</td>\n",
              "      <td>-7.343469</td>\n",
              "    </tr>\n",
              "    <tr>\n",
              "      <th>4997</th>\n",
              "      <td>12.925503</td>\n",
              "      <td>-0.103197</td>\n",
              "    </tr>\n",
              "    <tr>\n",
              "      <th>4998</th>\n",
              "      <td>-34.336778</td>\n",
              "      <td>4.405753</td>\n",
              "    </tr>\n",
              "    <tr>\n",
              "      <th>4999</th>\n",
              "      <td>-26.812739</td>\n",
              "      <td>-1.639956</td>\n",
              "    </tr>\n",
              "  </tbody>\n",
              "</table>\n",
              "<p>5000 rows × 2 columns</p>\n",
              "</div>\n",
              "      <button class=\"colab-df-convert\" onclick=\"convertToInteractive('df-542f42eb-863f-4aa5-85dd-efb7039feec5')\"\n",
              "              title=\"Convert this dataframe to an interactive table.\"\n",
              "              style=\"display:none;\">\n",
              "        \n",
              "  <svg xmlns=\"http://www.w3.org/2000/svg\" height=\"24px\"viewBox=\"0 0 24 24\"\n",
              "       width=\"24px\">\n",
              "    <path d=\"M0 0h24v24H0V0z\" fill=\"none\"/>\n",
              "    <path d=\"M18.56 5.44l.94 2.06.94-2.06 2.06-.94-2.06-.94-.94-2.06-.94 2.06-2.06.94zm-11 1L8.5 8.5l.94-2.06 2.06-.94-2.06-.94L8.5 2.5l-.94 2.06-2.06.94zm10 10l.94 2.06.94-2.06 2.06-.94-2.06-.94-.94-2.06-.94 2.06-2.06.94z\"/><path d=\"M17.41 7.96l-1.37-1.37c-.4-.4-.92-.59-1.43-.59-.52 0-1.04.2-1.43.59L10.3 9.45l-7.72 7.72c-.78.78-.78 2.05 0 2.83L4 21.41c.39.39.9.59 1.41.59.51 0 1.02-.2 1.41-.59l7.78-7.78 2.81-2.81c.8-.78.8-2.07 0-2.86zM5.41 20L4 18.59l7.72-7.72 1.47 1.35L5.41 20z\"/>\n",
              "  </svg>\n",
              "      </button>\n",
              "      \n",
              "  <style>\n",
              "    .colab-df-container {\n",
              "      display:flex;\n",
              "      flex-wrap:wrap;\n",
              "      gap: 12px;\n",
              "    }\n",
              "\n",
              "    .colab-df-convert {\n",
              "      background-color: #E8F0FE;\n",
              "      border: none;\n",
              "      border-radius: 50%;\n",
              "      cursor: pointer;\n",
              "      display: none;\n",
              "      fill: #1967D2;\n",
              "      height: 32px;\n",
              "      padding: 0 0 0 0;\n",
              "      width: 32px;\n",
              "    }\n",
              "\n",
              "    .colab-df-convert:hover {\n",
              "      background-color: #E2EBFA;\n",
              "      box-shadow: 0px 1px 2px rgba(60, 64, 67, 0.3), 0px 1px 3px 1px rgba(60, 64, 67, 0.15);\n",
              "      fill: #174EA6;\n",
              "    }\n",
              "\n",
              "    [theme=dark] .colab-df-convert {\n",
              "      background-color: #3B4455;\n",
              "      fill: #D2E3FC;\n",
              "    }\n",
              "\n",
              "    [theme=dark] .colab-df-convert:hover {\n",
              "      background-color: #434B5C;\n",
              "      box-shadow: 0px 1px 3px 1px rgba(0, 0, 0, 0.15);\n",
              "      filter: drop-shadow(0px 1px 2px rgba(0, 0, 0, 0.3));\n",
              "      fill: #FFFFFF;\n",
              "    }\n",
              "  </style>\n",
              "\n",
              "      <script>\n",
              "        const buttonEl =\n",
              "          document.querySelector('#df-542f42eb-863f-4aa5-85dd-efb7039feec5 button.colab-df-convert');\n",
              "        buttonEl.style.display =\n",
              "          google.colab.kernel.accessAllowed ? 'block' : 'none';\n",
              "\n",
              "        async function convertToInteractive(key) {\n",
              "          const element = document.querySelector('#df-542f42eb-863f-4aa5-85dd-efb7039feec5');\n",
              "          const dataTable =\n",
              "            await google.colab.kernel.invokeFunction('convertToInteractive',\n",
              "                                                     [key], {});\n",
              "          if (!dataTable) return;\n",
              "\n",
              "          const docLinkHtml = 'Like what you see? Visit the ' +\n",
              "            '<a target=\"_blank\" href=https://colab.research.google.com/notebooks/data_table.ipynb>data table notebook</a>'\n",
              "            + ' to learn more about interactive tables.';\n",
              "          element.innerHTML = '';\n",
              "          dataTable['output_type'] = 'display_data';\n",
              "          await google.colab.output.renderOutput(dataTable, element);\n",
              "          const docLink = document.createElement('div');\n",
              "          docLink.innerHTML = docLinkHtml;\n",
              "          element.appendChild(docLink);\n",
              "        }\n",
              "      </script>\n",
              "    </div>\n",
              "  </div>\n",
              "  "
            ]
          },
          "metadata": {},
          "execution_count": 37
        }
      ]
    },
    {
      "cell_type": "markdown",
      "source": [
        "To find principle components of aggregate data:\n",
        "1. Calculate the covariance matrix: Compute the covariance matrix of the standardized data. This will give you a matrix where each element represents the covariance between two variables."
      ],
      "metadata": {
        "id": "NLw0RfauivRO"
      }
    },
    {
      "cell_type": "code",
      "source": [
        "Cov1 = np.cov(data.T)\n",
        "print(Cov1)\n",
        "print(Cov1.shape)"
      ],
      "metadata": {
        "colab": {
          "base_uri": "https://localhost:8080/"
        },
        "id": "OvLg-ph1iJbJ",
        "outputId": "b887389a-7789-4937-8f27-1b0ef791eb62"
      },
      "execution_count": null,
      "outputs": [
        {
          "output_type": "stream",
          "name": "stdout",
          "text": [
            "[[321.52128167 -17.31559029]\n",
            " [-17.31559029  18.37430687]]\n",
            "(2, 2)\n"
          ]
        }
      ]
    },
    {
      "cell_type": "markdown",
      "source": [
        "2. Compute the eigenvectors and eigenvalues: Find the eigenvectors and eigenvalues of the covariance matrix. The eigenvectors represent the directions in which the data varies the most, while the eigenvalues represent the amount of variation explained by each eigenvector."
      ],
      "metadata": {
        "id": "Bif7J7Y_i0dh"
      }
    },
    {
      "cell_type": "code",
      "source": [
        "eigval, eigvec = np.linalg.eig(Cov1)\n",
        "print(eigval)\n",
        "print(eigvec)"
      ],
      "metadata": {
        "colab": {
          "base_uri": "https://localhost:8080/"
        },
        "id": "xTSXAU-liOZR",
        "outputId": "95fbc073-61ef-49df-b350-7c39721c9e3b"
      },
      "execution_count": null,
      "outputs": [
        {
          "output_type": "stream",
          "name": "stdout",
          "text": [
            "[322.50713273  17.38845582]\n",
            "[[ 0.99838317  0.05684225]\n",
            " [-0.05684225  0.99838317]]\n"
          ]
        }
      ]
    },
    {
      "cell_type": "code",
      "source": [
        "xpoint = data.dot(eigvec.T[0])\n",
        "ypoint = data.dot(eigvec.T[1])"
      ],
      "metadata": {
        "id": "lgQdVllUkT5m"
      },
      "execution_count": null,
      "outputs": []
    },
    {
      "cell_type": "markdown",
      "source": [
        "This is how the data projected through PCA"
      ],
      "metadata": {
        "id": "5ZTS_uGFAL8-"
      }
    },
    {
      "cell_type": "code",
      "source": [
        "plt.scatter(xpoint, ypoint)"
      ],
      "metadata": {
        "colab": {
          "base_uri": "https://localhost:8080/",
          "height": 282
        },
        "id": "BUDeZZxvAaqe",
        "outputId": "e1fc7a28-8f99-4611-ba10-b1ac30951a1a"
      },
      "execution_count": null,
      "outputs": [
        {
          "output_type": "execute_result",
          "data": {
            "text/plain": [
              "<matplotlib.collections.PathCollection at 0x7f6a863fa250>"
            ]
          },
          "metadata": {},
          "execution_count": 44
        },
        {
          "output_type": "display_data",
          "data": {
            "text/plain": [
              "<Figure size 432x288 with 1 Axes>"
            ],
            "image/png": "[encoded data removed]"
          },
          "metadata": {
            "needs_background": "light"
          }
        }
      ]
    },
    {
      "cell_type": "markdown",
      "source": [
        "#### Question 2c\n",
        "Calculate and print out the principle components of each cluster. \n",
        "Are they the same as the aggregate data? Are they the same as each other?"
      ],
      "metadata": {
        "id": "YKfXj3qFmNxn"
      }
    },
    {
      "cell_type": "code",
      "source": [
        "data0 = df[df['label']==0][[0,1]]\n",
        "data0.shape"
      ],
      "metadata": {
        "colab": {
          "base_uri": "https://localhost:8080/"
        },
        "id": "9dMoin97nZpO",
        "outputId": "4acc0d3c-50cb-4e62-a2b8-dfd535acf950"
      },
      "execution_count": null,
      "outputs": [
        {
          "output_type": "execute_result",
          "data": {
            "text/plain": [
              "(1000, 2)"
            ]
          },
          "metadata": {},
          "execution_count": 58
        }
      ]
    },
    {
      "cell_type": "code",
      "source": [
        "data1 = df[df['label']==1][[0,1]]\n",
        "data1.shape"
      ],
      "metadata": {
        "colab": {
          "base_uri": "https://localhost:8080/"
        },
        "id": "E-I8RnPzmNoY",
        "outputId": "e593a124-8a13-4904-e572-44894fd733bb"
      },
      "execution_count": null,
      "outputs": [
        {
          "output_type": "execute_result",
          "data": {
            "text/plain": [
              "(1000, 2)"
            ]
          },
          "metadata": {},
          "execution_count": 59
        }
      ]
    },
    {
      "cell_type": "code",
      "source": [
        "data2 = df[df['label']==2][[0,1]]\n",
        "data2.shape"
      ],
      "metadata": {
        "colab": {
          "base_uri": "https://localhost:8080/"
        },
        "id": "4yMyQ2m0nUi_",
        "outputId": "c96ffc54-1129-44a8-a213-3582392d9452"
      },
      "execution_count": null,
      "outputs": [
        {
          "output_type": "execute_result",
          "data": {
            "text/plain": [
              "(1004, 2)"
            ]
          },
          "metadata": {},
          "execution_count": 55
        }
      ]
    },
    {
      "cell_type": "code",
      "source": [
        "data3 = df[df['label']==3][[0,1]]\n",
        "data3.shape"
      ],
      "metadata": {
        "colab": {
          "base_uri": "https://localhost:8080/"
        },
        "id": "gKKh6ZpInWWI",
        "outputId": "bd6e0faf-1412-4be4-88b7-c66474ed7fc7"
      },
      "execution_count": null,
      "outputs": [
        {
          "output_type": "execute_result",
          "data": {
            "text/plain": [
              "(998, 2)"
            ]
          },
          "metadata": {},
          "execution_count": 56
        }
      ]
    },
    {
      "cell_type": "code",
      "source": [
        "data4 = df[df['label']==4][[0,1]]\n",
        "data4.shape"
      ],
      "metadata": {
        "colab": {
          "base_uri": "https://localhost:8080/"
        },
        "id": "_xzzGwTlnX7k",
        "outputId": "df627992-6d99-4719-d1ab-457a8c24a882"
      },
      "execution_count": null,
      "outputs": [
        {
          "output_type": "execute_result",
          "data": {
            "text/plain": [
              "(998, 2)"
            ]
          },
          "metadata": {},
          "execution_count": 57
        }
      ]
    },
    {
      "cell_type": "code",
      "source": [
        "data_l = [data0, data1, data2, data3, data4]"
      ],
      "metadata": {
        "id": "N6OHNVOun2gP"
      },
      "execution_count": null,
      "outputs": []
    },
    {
      "cell_type": "code",
      "source": [
        "cov = []\n",
        "eigval, eigvec = [], []"
      ],
      "metadata": {
        "id": "EkwLhdbkn7pY"
      },
      "execution_count": null,
      "outputs": []
    },
    {
      "cell_type": "code",
      "source": [
        "for data in data_l:\n",
        "  m = np.cov(data.T)\n",
        "  cov.append(m)\n",
        "  val, vec = np.linalg.eig(m)\n",
        "  eigval.append(val)\n",
        "  eigvec.append(vec)"
      ],
      "metadata": {
        "id": "2-PI-OhXnfs5"
      },
      "execution_count": null,
      "outputs": []
    },
    {
      "cell_type": "code",
      "source": [
        "for i in range(0, 5):\n",
        "  print(\"eigval\",eigval[i] ,\"eigvec\", eigvec[i])"
      ],
      "metadata": {
        "colab": {
          "base_uri": "https://localhost:8080/"
        },
        "id": "3C6zWXpfuh6o",
        "outputId": "754e2cb3-bc1d-433f-fd78-ca58db46b37e"
      },
      "execution_count": null,
      "outputs": [
        {
          "output_type": "stream",
          "name": "stdout",
          "text": [
            "eigval [195.0259165   0.2722047] eigvec [[ 0.99993527 -0.01137789]\n",
            " [ 0.01137789  0.99993527]]\n",
            "eigval [204.376807     0.28339306] eigvec [[ 0.99992533 -0.01222027]\n",
            " [ 0.01222027  0.99992533]]\n",
            "eigval [217.34942629   0.27670722] eigvec [[ 0.99990986 -0.01342629]\n",
            " [ 0.01342629  0.99990986]]\n",
            "eigval [204.42164874   0.26977027] eigvec [[ 0.99993306 -0.01157047]\n",
            " [ 0.01157047  0.99993306]]\n",
            "eigval [191.5356272    0.26355151] eigvec [[ 0.99989374 -0.01457781]\n",
            " [ 0.01457781  0.99989374]]\n"
          ]
        }
      ]
    },
    {
      "cell_type": "code",
      "source": [
        "xpoint, ypoint = [], []\n",
        "for i in range(0, 5):\n",
        "  xpoint.append(data_l[i].dot(eigvec[i].T[0]))\n",
        "  ypoint.append(data_l[i].dot(eigvec[i].T[1]))"
      ],
      "metadata": {
        "id": "KTfsPg87qRKP"
      },
      "execution_count": null,
      "outputs": []
    },
    {
      "cell_type": "markdown",
      "source": [
        "This is how the date projected after PCA"
      ],
      "metadata": {
        "id": "rs5XYyIgAGQ0"
      }
    },
    {
      "cell_type": "code",
      "source": [
        "fig1, ax = plt.subplots()\n",
        "cdict = {0: 'blue', 1: 'red', 2: 'green', 3:'yellow', 4:'pink'}\n",
        "\n",
        "for i in range(0, 5):\n",
        "  ax.scatter(xpoint[i], ypoint[i], c = cdict[i], label=i)\n",
        "\n",
        "ax.legend()\n",
        "plt.show()"
      ],
      "metadata": {
        "colab": {
          "base_uri": "https://localhost:8080/",
          "height": 265
        },
        "id": "vJ3IX00GotRf",
        "outputId": "40f5f45d-a23f-44f8-8bbd-2c37f30af024"
      },
      "execution_count": null,
      "outputs": [
        {
          "output_type": "display_data",
          "data": {
            "text/plain": [
              "<Figure size 432x288 with 1 Axes>"
            ],
            "image/png": "[encoded data removed]"
          },
          "metadata": {
            "needs_background": "light"
          }
        }
      ]
    },
    {
      "cell_type": "markdown",
      "source": [
        "They are surpringly similiar to each other."
      ],
      "metadata": {
        "id": "lKQ6nFr2vdwG"
      }
    },
    {
      "cell_type": "markdown",
      "source": [
        "#### Question 2d\n",
        "Take the eigenvector / eigenvalue decomposition of $P^T$ and subsequently, take their product. That is to say, \n",
        "\n",
        "\\begin{equation}\n",
        "    \\{\\Lambda, \\Phi\\} = \\verb\"eig\"\\left( P^T \\right)\n",
        "    \\nonumber\n",
        "\\end{equation}\n",
        "\n",
        "where $\\Lambda = \\left( \\begin{matrix} \\lambda_1 & 0 \\\\ 0 & \\lambda_2 \\end{matrix} \\right)$ and $\\Phi$ is a $2 \\times 2$ matrix with $\\phi_i \\in \\mathbb{R}^2$, a column in $\\Phi$. Calculate a new $P'$ such that\n",
        "\n",
        "\\begin{equation}\n",
        "    P' = \\Lambda \\Phi \\nonumber\n",
        "\\end{equation}\n",
        "\n",
        "What is the relationship between $P'$ and the data? \n"
      ],
      "metadata": {
        "id": "6jCooFRq7dOC"
      }
    },
    {
      "cell_type": "code",
      "source": [
        "P = np.asarray([[10, 0.5], [-10, 0.25]])"
      ],
      "metadata": {
        "id": "7kWuwhUv_As2"
      },
      "execution_count": 100,
      "outputs": []
    },
    {
      "cell_type": "code",
      "source": [
        "l,e = np.linalg.eig(P.T)\n",
        "P1 = l*e\n",
        "l = np.array([[l[0],0],[0,l[1]]])\n",
        "P2 = l*e"
      ],
      "metadata": {
        "id": "qR6SS4tVBa_3"
      },
      "execution_count": 101,
      "outputs": []
    },
    {
      "cell_type": "code",
      "source": [
        "print(P1)\n",
        "print(P2)"
      ],
      "metadata": {
        "colab": {
          "base_uri": "https://localhost:8080/"
        },
        "id": "HVigxzrR_C2o",
        "outputId": "2ae5a132-f49b-46c4-a77a-56f8de3dd7e6"
      },
      "execution_count": 102,
      "outputs": [
        {
          "output_type": "stream",
          "name": "stdout",
          "text": [
            "[[9.44301625 0.58344264]\n",
            " [0.51282107 0.53717161]]\n",
            "[[9.44301625 0.        ]\n",
            " [0.         0.53717161]]\n"
          ]
        }
      ]
    },
    {
      "cell_type": "code",
      "source": [
        "val, vec = np.linalg.eig( P.T @ P )\n",
        "print(vec)"
      ],
      "metadata": {
        "colab": {
          "base_uri": "https://localhost:8080/"
        },
        "id": "WFwgJZjY9sP7",
        "outputId": "8be697e9-212a-4b9e-bda5-975aa8df85ba"
      },
      "execution_count": 105,
      "outputs": [
        {
          "output_type": "stream",
          "name": "stdout",
          "text": [
            "[[ 0.99992166 -0.01251662]\n",
            " [ 0.01251662  0.99992166]]\n"
          ]
        }
      ]
    }
  ]
}